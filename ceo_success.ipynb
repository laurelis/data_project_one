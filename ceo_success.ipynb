{
 "cells": [
  {
   "cell_type": "code",
   "execution_count": 1,
   "metadata": {},
   "outputs": [],
   "source": [
    "import pandas as pd\n",
    "import numpy as np\n",
    "import scipy.stats as stats\n",
    "from scipy.stats import linregress\n",
    "from scipy.stats import sem, ttest_ind\n",
    "from matplotlib import pyplot as plt\n",
    "%matplotlib inline"
   ]
  },
  {
   "cell_type": "code",
   "execution_count": 2,
   "metadata": {},
   "outputs": [
    {
     "data": {
      "text/html": [
       "<div>\n",
       "<style scoped>\n",
       "    .dataframe tbody tr th:only-of-type {\n",
       "        vertical-align: middle;\n",
       "    }\n",
       "\n",
       "    .dataframe tbody tr th {\n",
       "        vertical-align: top;\n",
       "    }\n",
       "\n",
       "    .dataframe thead th {\n",
       "        text-align: right;\n",
       "    }\n",
       "</style>\n",
       "<table border=\"1\" class=\"dataframe\">\n",
       "  <thead>\n",
       "    <tr style=\"text-align: right;\">\n",
       "      <th></th>\n",
       "      <th>Symbol</th>\n",
       "      <th>Name</th>\n",
       "      <th>CEO</th>\n",
       "      <th>Year</th>\n",
       "      <th>Salary</th>\n",
       "    </tr>\n",
       "  </thead>\n",
       "  <tbody>\n",
       "    <tr>\n",
       "      <th>0</th>\n",
       "      <td>TSLA</td>\n",
       "      <td>Tesla, Inc.</td>\n",
       "      <td>Elon Musk</td>\n",
       "      <td>2018</td>\n",
       "      <td>2284044884</td>\n",
       "    </tr>\n",
       "    <tr>\n",
       "      <th>1</th>\n",
       "      <td>AAXN</td>\n",
       "      <td>Axon Enterprise, Inc.</td>\n",
       "      <td>Patrick Smith</td>\n",
       "      <td>2018</td>\n",
       "      <td>246026710</td>\n",
       "    </tr>\n",
       "    <tr>\n",
       "      <th>2</th>\n",
       "      <td>DISCA</td>\n",
       "      <td>Discovery, Inc.</td>\n",
       "      <td>David Zaslav</td>\n",
       "      <td>2018</td>\n",
       "      <td>129499005</td>\n",
       "    </tr>\n",
       "    <tr>\n",
       "      <th>3</th>\n",
       "      <td>ORCL</td>\n",
       "      <td>Oracle Corp.</td>\n",
       "      <td>Mark Hurd</td>\n",
       "      <td>2018</td>\n",
       "      <td>108295023</td>\n",
       "    </tr>\n",
       "    <tr>\n",
       "      <th>4</th>\n",
       "      <td>OMF</td>\n",
       "      <td>OneMain Holdings, Inc.</td>\n",
       "      <td>Jay Levine</td>\n",
       "      <td>2018</td>\n",
       "      <td>71532583</td>\n",
       "    </tr>\n",
       "  </tbody>\n",
       "</table>\n",
       "</div>"
      ],
      "text/plain": [
       "  Symbol                    Name            CEO  Year      Salary\n",
       "0   TSLA             Tesla, Inc.      Elon Musk  2018  2284044884\n",
       "1   AAXN   Axon Enterprise, Inc.  Patrick Smith  2018   246026710\n",
       "2  DISCA         Discovery, Inc.   David Zaslav  2018   129499005\n",
       "3   ORCL            Oracle Corp.      Mark Hurd  2018   108295023\n",
       "4    OMF  OneMain Holdings, Inc.     Jay Levine  2018    71532583"
      ]
     },
     "execution_count": 2,
     "metadata": {},
     "output_type": "execute_result"
    }
   ],
   "source": [
    "# Read in AFL / CIO data (2700 records)\n",
    "\n",
    "salary = \"ceo_salary_aflcio.csv\"\n",
    "salary_df = pd.read_csv(salary, encoding=\"utf-8\")\n",
    "salary_df.head()"
   ]
  },
  {
   "cell_type": "code",
   "execution_count": 3,
   "metadata": {},
   "outputs": [
    {
     "data": {
      "text/html": [
       "<div>\n",
       "<style scoped>\n",
       "    .dataframe tbody tr th:only-of-type {\n",
       "        vertical-align: middle;\n",
       "    }\n",
       "\n",
       "    .dataframe tbody tr th {\n",
       "        vertical-align: top;\n",
       "    }\n",
       "\n",
       "    .dataframe thead th {\n",
       "        text-align: right;\n",
       "    }\n",
       "</style>\n",
       "<table border=\"1\" class=\"dataframe\">\n",
       "  <thead>\n",
       "    <tr style=\"text-align: right;\">\n",
       "      <th></th>\n",
       "      <th>Symbol</th>\n",
       "      <th>Company</th>\n",
       "      <th>Sector</th>\n",
       "      <th>Price</th>\n",
       "      <th>PE_Ratio</th>\n",
       "      <th>Dividend Yield</th>\n",
       "      <th>Earnings/Share</th>\n",
       "      <th>52 Week Low</th>\n",
       "      <th>52 Week High</th>\n",
       "      <th>Market Cap</th>\n",
       "      <th>EBITDA</th>\n",
       "      <th>Price/Sales</th>\n",
       "      <th>Price/Book</th>\n",
       "      <th>SEC Filings</th>\n",
       "    </tr>\n",
       "  </thead>\n",
       "  <tbody>\n",
       "    <tr>\n",
       "      <th>0</th>\n",
       "      <td>MMM</td>\n",
       "      <td>3M Company</td>\n",
       "      <td>Industrials</td>\n",
       "      <td>222.89</td>\n",
       "      <td>24.31</td>\n",
       "      <td>2.332862</td>\n",
       "      <td>7.92</td>\n",
       "      <td>259.77</td>\n",
       "      <td>175.490</td>\n",
       "      <td>1.390000e+11</td>\n",
       "      <td>9.048000e+09</td>\n",
       "      <td>4.390271</td>\n",
       "      <td>11.34</td>\n",
       "      <td>http://www.sec.gov/cgi-bin/browse-edgar?action...</td>\n",
       "    </tr>\n",
       "    <tr>\n",
       "      <th>1</th>\n",
       "      <td>AOS</td>\n",
       "      <td>A.O. Smith Corp</td>\n",
       "      <td>Industrials</td>\n",
       "      <td>60.24</td>\n",
       "      <td>27.76</td>\n",
       "      <td>1.147959</td>\n",
       "      <td>1.70</td>\n",
       "      <td>68.39</td>\n",
       "      <td>48.925</td>\n",
       "      <td>1.078342e+10</td>\n",
       "      <td>6.010000e+08</td>\n",
       "      <td>3.575483</td>\n",
       "      <td>6.35</td>\n",
       "      <td>http://www.sec.gov/cgi-bin/browse-edgar?action...</td>\n",
       "    </tr>\n",
       "    <tr>\n",
       "      <th>2</th>\n",
       "      <td>ABT</td>\n",
       "      <td>Abbott Laboratories</td>\n",
       "      <td>Health Care</td>\n",
       "      <td>56.27</td>\n",
       "      <td>22.51</td>\n",
       "      <td>1.908982</td>\n",
       "      <td>0.26</td>\n",
       "      <td>64.60</td>\n",
       "      <td>42.280</td>\n",
       "      <td>1.020000e+11</td>\n",
       "      <td>5.744000e+09</td>\n",
       "      <td>3.740480</td>\n",
       "      <td>3.19</td>\n",
       "      <td>http://www.sec.gov/cgi-bin/browse-edgar?action...</td>\n",
       "    </tr>\n",
       "    <tr>\n",
       "      <th>3</th>\n",
       "      <td>ABBV</td>\n",
       "      <td>AbbVie Inc.</td>\n",
       "      <td>Health Care</td>\n",
       "      <td>108.48</td>\n",
       "      <td>19.41</td>\n",
       "      <td>2.499560</td>\n",
       "      <td>3.29</td>\n",
       "      <td>125.86</td>\n",
       "      <td>60.050</td>\n",
       "      <td>1.810000e+11</td>\n",
       "      <td>1.031000e+10</td>\n",
       "      <td>6.291571</td>\n",
       "      <td>26.14</td>\n",
       "      <td>http://www.sec.gov/cgi-bin/browse-edgar?action...</td>\n",
       "    </tr>\n",
       "    <tr>\n",
       "      <th>4</th>\n",
       "      <td>ACN</td>\n",
       "      <td>Accenture plc</td>\n",
       "      <td>Information Technology</td>\n",
       "      <td>150.51</td>\n",
       "      <td>25.47</td>\n",
       "      <td>1.714470</td>\n",
       "      <td>5.44</td>\n",
       "      <td>162.60</td>\n",
       "      <td>114.820</td>\n",
       "      <td>9.876586e+10</td>\n",
       "      <td>5.643228e+09</td>\n",
       "      <td>2.604117</td>\n",
       "      <td>10.62</td>\n",
       "      <td>http://www.sec.gov/cgi-bin/browse-edgar?action...</td>\n",
       "    </tr>\n",
       "  </tbody>\n",
       "</table>\n",
       "</div>"
      ],
      "text/plain": [
       "  Symbol              Company                  Sector   Price  PE_Ratio  \\\n",
       "0    MMM           3M Company             Industrials  222.89     24.31   \n",
       "1    AOS      A.O. Smith Corp             Industrials   60.24     27.76   \n",
       "2    ABT  Abbott Laboratories             Health Care   56.27     22.51   \n",
       "3   ABBV          AbbVie Inc.             Health Care  108.48     19.41   \n",
       "4    ACN        Accenture plc  Information Technology  150.51     25.47   \n",
       "\n",
       "   Dividend Yield  Earnings/Share  52 Week Low  52 Week High    Market Cap  \\\n",
       "0        2.332862            7.92       259.77       175.490  1.390000e+11   \n",
       "1        1.147959            1.70        68.39        48.925  1.078342e+10   \n",
       "2        1.908982            0.26        64.60        42.280  1.020000e+11   \n",
       "3        2.499560            3.29       125.86        60.050  1.810000e+11   \n",
       "4        1.714470            5.44       162.60       114.820  9.876586e+10   \n",
       "\n",
       "         EBITDA  Price/Sales  Price/Book  \\\n",
       "0  9.048000e+09     4.390271       11.34   \n",
       "1  6.010000e+08     3.575483        6.35   \n",
       "2  5.744000e+09     3.740480        3.19   \n",
       "3  1.031000e+10     6.291571       26.14   \n",
       "4  5.643228e+09     2.604117       10.62   \n",
       "\n",
       "                                         SEC Filings  \n",
       "0  http://www.sec.gov/cgi-bin/browse-edgar?action...  \n",
       "1  http://www.sec.gov/cgi-bin/browse-edgar?action...  \n",
       "2  http://www.sec.gov/cgi-bin/browse-edgar?action...  \n",
       "3  http://www.sec.gov/cgi-bin/browse-edgar?action...  \n",
       "4  http://www.sec.gov/cgi-bin/browse-edgar?action...  "
      ]
     },
     "execution_count": 3,
     "metadata": {},
     "output_type": "execute_result"
    }
   ],
   "source": [
    "#Import Company data\n",
    "\n",
    "consfin_csv = \"company_data.csv\"\n",
    "com_df = pd.read_csv(consfin_csv)\n",
    "com_df.head()"
   ]
  },
  {
   "cell_type": "code",
   "execution_count": 4,
   "metadata": {},
   "outputs": [
    {
     "data": {
      "text/html": [
       "<div>\n",
       "<style scoped>\n",
       "    .dataframe tbody tr th:only-of-type {\n",
       "        vertical-align: middle;\n",
       "    }\n",
       "\n",
       "    .dataframe tbody tr th {\n",
       "        vertical-align: top;\n",
       "    }\n",
       "\n",
       "    .dataframe thead th {\n",
       "        text-align: right;\n",
       "    }\n",
       "</style>\n",
       "<table border=\"1\" class=\"dataframe\">\n",
       "  <thead>\n",
       "    <tr style=\"text-align: right;\">\n",
       "      <th></th>\n",
       "      <th>Symbol</th>\n",
       "      <th>Name</th>\n",
       "      <th>CEO</th>\n",
       "      <th>Year</th>\n",
       "      <th>Salary</th>\n",
       "      <th>Company</th>\n",
       "      <th>Sector</th>\n",
       "      <th>Price</th>\n",
       "      <th>PE_Ratio</th>\n",
       "      <th>Dividend Yield</th>\n",
       "      <th>Earnings/Share</th>\n",
       "      <th>52 Week Low</th>\n",
       "      <th>52 Week High</th>\n",
       "      <th>Market Cap</th>\n",
       "      <th>EBITDA</th>\n",
       "      <th>Price/Sales</th>\n",
       "      <th>Price/Book</th>\n",
       "      <th>SEC Filings</th>\n",
       "    </tr>\n",
       "  </thead>\n",
       "  <tbody>\n",
       "    <tr>\n",
       "      <th>0</th>\n",
       "      <td>DISCA</td>\n",
       "      <td>Discovery, Inc.</td>\n",
       "      <td>David Zaslav</td>\n",
       "      <td>2018</td>\n",
       "      <td>129499005</td>\n",
       "      <td>Discovery Communications-A</td>\n",
       "      <td>Consumer Discretionary</td>\n",
       "      <td>22.87</td>\n",
       "      <td>11.00</td>\n",
       "      <td>0.000000</td>\n",
       "      <td>1.96</td>\n",
       "      <td>30.250</td>\n",
       "      <td>15.99</td>\n",
       "      <td>8.763757e+09</td>\n",
       "      <td>2.100000e+09</td>\n",
       "      <td>1.804088</td>\n",
       "      <td>1.50</td>\n",
       "      <td>http://www.sec.gov/cgi-bin/browse-edgar?action...</td>\n",
       "    </tr>\n",
       "    <tr>\n",
       "      <th>1</th>\n",
       "      <td>ORCL</td>\n",
       "      <td>Oracle Corp.</td>\n",
       "      <td>Mark Hurd</td>\n",
       "      <td>2018</td>\n",
       "      <td>108295023</td>\n",
       "      <td>Oracle Corp.</td>\n",
       "      <td>Information Technology</td>\n",
       "      <td>46.84</td>\n",
       "      <td>18.81</td>\n",
       "      <td>1.555146</td>\n",
       "      <td>2.20</td>\n",
       "      <td>53.140</td>\n",
       "      <td>40.01</td>\n",
       "      <td>2.020000e+11</td>\n",
       "      <td>1.654500e+10</td>\n",
       "      <td>5.256165</td>\n",
       "      <td>3.56</td>\n",
       "      <td>http://www.sec.gov/cgi-bin/browse-edgar?action...</td>\n",
       "    </tr>\n",
       "    <tr>\n",
       "      <th>2</th>\n",
       "      <td>DIS</td>\n",
       "      <td>The Walt Disney Co.</td>\n",
       "      <td>Robert Iger</td>\n",
       "      <td>2018</td>\n",
       "      <td>65645214</td>\n",
       "      <td>The Walt Disney Company</td>\n",
       "      <td>Consumer Discretionary</td>\n",
       "      <td>101.35</td>\n",
       "      <td>17.78</td>\n",
       "      <td>1.603665</td>\n",
       "      <td>5.70</td>\n",
       "      <td>116.100</td>\n",
       "      <td>96.20</td>\n",
       "      <td>1.580000e+11</td>\n",
       "      <td>1.254400e+10</td>\n",
       "      <td>3.963556</td>\n",
       "      <td>3.82</td>\n",
       "      <td>http://www.sec.gov/cgi-bin/browse-edgar?action...</td>\n",
       "    </tr>\n",
       "    <tr>\n",
       "      <th>3</th>\n",
       "      <td>FOXA</td>\n",
       "      <td>Twenty-First Century Fox, Inc.</td>\n",
       "      <td>James Murdoch</td>\n",
       "      <td>2018</td>\n",
       "      <td>50263861</td>\n",
       "      <td>Twenty-First Century Fox Class A</td>\n",
       "      <td>Consumer Discretionary</td>\n",
       "      <td>34.56</td>\n",
       "      <td>17.81</td>\n",
       "      <td>0.998336</td>\n",
       "      <td>1.59</td>\n",
       "      <td>39.135</td>\n",
       "      <td>24.81</td>\n",
       "      <td>4.402709e+10</td>\n",
       "      <td>5.280000e+09</td>\n",
       "      <td>2.108032</td>\n",
       "      <td>4.11</td>\n",
       "      <td>http://www.sec.gov/cgi-bin/browse-edgar?action...</td>\n",
       "    </tr>\n",
       "    <tr>\n",
       "      <th>4</th>\n",
       "      <td>EL</td>\n",
       "      <td>The Estee Lauder Companies, Inc.</td>\n",
       "      <td>Fabrizio Freda</td>\n",
       "      <td>2018</td>\n",
       "      <td>48753819</td>\n",
       "      <td>Estee Lauder Cos.</td>\n",
       "      <td>Consumer Staples</td>\n",
       "      <td>131.46</td>\n",
       "      <td>37.78</td>\n",
       "      <td>1.128350</td>\n",
       "      <td>3.35</td>\n",
       "      <td>138.740</td>\n",
       "      <td>81.69</td>\n",
       "      <td>4.954326e+10</td>\n",
       "      <td>2.478000e+09</td>\n",
       "      <td>3.952258</td>\n",
       "      <td>10.82</td>\n",
       "      <td>http://www.sec.gov/cgi-bin/browse-edgar?action...</td>\n",
       "    </tr>\n",
       "  </tbody>\n",
       "</table>\n",
       "</div>"
      ],
      "text/plain": [
       "  Symbol                              Name             CEO  Year     Salary  \\\n",
       "0  DISCA                   Discovery, Inc.    David Zaslav  2018  129499005   \n",
       "1   ORCL                      Oracle Corp.       Mark Hurd  2018  108295023   \n",
       "2    DIS               The Walt Disney Co.     Robert Iger  2018   65645214   \n",
       "3   FOXA    Twenty-First Century Fox, Inc.   James Murdoch  2018   50263861   \n",
       "4     EL  The Estee Lauder Companies, Inc.  Fabrizio Freda  2018   48753819   \n",
       "\n",
       "                            Company                  Sector   Price  PE_Ratio  \\\n",
       "0        Discovery Communications-A  Consumer Discretionary   22.87     11.00   \n",
       "1                      Oracle Corp.  Information Technology   46.84     18.81   \n",
       "2           The Walt Disney Company  Consumer Discretionary  101.35     17.78   \n",
       "3  Twenty-First Century Fox Class A  Consumer Discretionary   34.56     17.81   \n",
       "4                 Estee Lauder Cos.        Consumer Staples  131.46     37.78   \n",
       "\n",
       "   Dividend Yield  Earnings/Share  52 Week Low  52 Week High    Market Cap  \\\n",
       "0        0.000000            1.96       30.250         15.99  8.763757e+09   \n",
       "1        1.555146            2.20       53.140         40.01  2.020000e+11   \n",
       "2        1.603665            5.70      116.100         96.20  1.580000e+11   \n",
       "3        0.998336            1.59       39.135         24.81  4.402709e+10   \n",
       "4        1.128350            3.35      138.740         81.69  4.954326e+10   \n",
       "\n",
       "         EBITDA  Price/Sales  Price/Book  \\\n",
       "0  2.100000e+09     1.804088        1.50   \n",
       "1  1.654500e+10     5.256165        3.56   \n",
       "2  1.254400e+10     3.963556        3.82   \n",
       "3  5.280000e+09     2.108032        4.11   \n",
       "4  2.478000e+09     3.952258       10.82   \n",
       "\n",
       "                                         SEC Filings  \n",
       "0  http://www.sec.gov/cgi-bin/browse-edgar?action...  \n",
       "1  http://www.sec.gov/cgi-bin/browse-edgar?action...  \n",
       "2  http://www.sec.gov/cgi-bin/browse-edgar?action...  \n",
       "3  http://www.sec.gov/cgi-bin/browse-edgar?action...  \n",
       "4  http://www.sec.gov/cgi-bin/browse-edgar?action...  "
      ]
     },
     "execution_count": 4,
     "metadata": {},
     "output_type": "execute_result"
    }
   ],
   "source": [
    "#Merge two dataframes on Ticker symbol\n",
    "\n",
    "salary_co = pd.merge(salary_df, com_df, on=\"Symbol\")\n",
    "salary_co.head()"
   ]
  },
  {
   "cell_type": "code",
   "execution_count": 54,
   "metadata": {},
   "outputs": [
    {
     "data": {
      "text/html": [
       "<div>\n",
       "<style scoped>\n",
       "    .dataframe tbody tr th:only-of-type {\n",
       "        vertical-align: middle;\n",
       "    }\n",
       "\n",
       "    .dataframe tbody tr th {\n",
       "        vertical-align: top;\n",
       "    }\n",
       "\n",
       "    .dataframe thead th {\n",
       "        text-align: right;\n",
       "    }\n",
       "</style>\n",
       "<table border=\"1\" class=\"dataframe\">\n",
       "  <thead>\n",
       "    <tr style=\"text-align: right;\">\n",
       "      <th></th>\n",
       "      <th>Symbol</th>\n",
       "      <th>Company</th>\n",
       "      <th>Sector</th>\n",
       "      <th>PE_Ratio</th>\n",
       "      <th>CEO</th>\n",
       "      <th>Salary</th>\n",
       "      <th>Market Cap</th>\n",
       "    </tr>\n",
       "  </thead>\n",
       "  <tbody>\n",
       "    <tr>\n",
       "      <th>0</th>\n",
       "      <td>DISCA</td>\n",
       "      <td>Discovery Communications-A</td>\n",
       "      <td>Consumer Discretionary</td>\n",
       "      <td>11.00</td>\n",
       "      <td>David Zaslav</td>\n",
       "      <td>129499005</td>\n",
       "      <td>8.763757e+09</td>\n",
       "    </tr>\n",
       "    <tr>\n",
       "      <th>1</th>\n",
       "      <td>ORCL</td>\n",
       "      <td>Oracle Corp.</td>\n",
       "      <td>Information Technology</td>\n",
       "      <td>18.81</td>\n",
       "      <td>Mark Hurd</td>\n",
       "      <td>108295023</td>\n",
       "      <td>2.020000e+11</td>\n",
       "    </tr>\n",
       "    <tr>\n",
       "      <th>2</th>\n",
       "      <td>DIS</td>\n",
       "      <td>The Walt Disney Company</td>\n",
       "      <td>Consumer Discretionary</td>\n",
       "      <td>17.78</td>\n",
       "      <td>Robert Iger</td>\n",
       "      <td>65645214</td>\n",
       "      <td>1.580000e+11</td>\n",
       "    </tr>\n",
       "    <tr>\n",
       "      <th>3</th>\n",
       "      <td>FOXA</td>\n",
       "      <td>Twenty-First Century Fox Class A</td>\n",
       "      <td>Consumer Discretionary</td>\n",
       "      <td>17.81</td>\n",
       "      <td>James Murdoch</td>\n",
       "      <td>50263861</td>\n",
       "      <td>4.402709e+10</td>\n",
       "    </tr>\n",
       "    <tr>\n",
       "      <th>4</th>\n",
       "      <td>EL</td>\n",
       "      <td>Estee Lauder Cos.</td>\n",
       "      <td>Consumer Staples</td>\n",
       "      <td>37.78</td>\n",
       "      <td>Fabrizio Freda</td>\n",
       "      <td>48753819</td>\n",
       "      <td>4.954326e+10</td>\n",
       "    </tr>\n",
       "  </tbody>\n",
       "</table>\n",
       "</div>"
      ],
      "text/plain": [
       "  Symbol                           Company                  Sector  PE_Ratio  \\\n",
       "0  DISCA        Discovery Communications-A  Consumer Discretionary     11.00   \n",
       "1   ORCL                      Oracle Corp.  Information Technology     18.81   \n",
       "2    DIS           The Walt Disney Company  Consumer Discretionary     17.78   \n",
       "3   FOXA  Twenty-First Century Fox Class A  Consumer Discretionary     17.81   \n",
       "4     EL                 Estee Lauder Cos.        Consumer Staples     37.78   \n",
       "\n",
       "              CEO     Salary    Market Cap  \n",
       "0    David Zaslav  129499005  8.763757e+09  \n",
       "1       Mark Hurd  108295023  2.020000e+11  \n",
       "2     Robert Iger   65645214  1.580000e+11  \n",
       "3   James Murdoch   50263861  4.402709e+10  \n",
       "4  Fabrizio Freda   48753819  4.954326e+10  "
      ]
     },
     "execution_count": 54,
     "metadata": {},
     "output_type": "execute_result"
    }
   ],
   "source": [
    "sector_ceo_b = salary_co[[\"Symbol\", \"Company\", \"Sector\", \"PE_Ratio\", \"CEO\", 'Salary', 'Market Cap']]\n",
    "sector_ceo_b.head()                   "
   ]
  },
  {
   "cell_type": "code",
   "execution_count": 28,
   "metadata": {},
   "outputs": [
    {
     "data": {
      "text/plain": [
       "(459, 7)"
      ]
     },
     "execution_count": 28,
     "metadata": {},
     "output_type": "execute_result"
    }
   ],
   "source": [
    "sector_ceo_b.shape"
   ]
  },
  {
   "cell_type": "code",
   "execution_count": 29,
   "metadata": {},
   "outputs": [],
   "source": [
    "sector_ceo = sector_ceo_b.dropna(how = 'any')"
   ]
  },
  {
   "cell_type": "code",
   "execution_count": 30,
   "metadata": {},
   "outputs": [
    {
     "data": {
      "text/plain": [
       "(457, 7)"
      ]
     },
     "execution_count": 30,
     "metadata": {},
     "output_type": "execute_result"
    }
   ],
   "source": [
    "sector_ceo.shape"
   ]
  },
  {
   "cell_type": "code",
   "execution_count": 31,
   "metadata": {},
   "outputs": [
    {
     "data": {
      "text/plain": [
       "14182822.72428884"
      ]
     },
     "execution_count": 31,
     "metadata": {},
     "output_type": "execute_result"
    }
   ],
   "source": [
    "#Calculate average Fortune 500 salary is $14.1mil\n",
    "avg_salary = sector_ceo[\"Salary\"].mean()\n",
    "avg_salary"
   ]
  },
  {
   "cell_type": "code",
   "execution_count": 32,
   "metadata": {},
   "outputs": [
    {
     "data": {
      "text/plain": [
       "25.42842450765865"
      ]
     },
     "execution_count": 32,
     "metadata": {},
     "output_type": "execute_result"
    }
   ],
   "source": [
    "#Calculate average PE Ratio\n",
    "avg_peratio = sector_ceo[\"PE_Ratio\"].mean()\n",
    "avg_peratio"
   ]
  },
  {
   "cell_type": "code",
   "execution_count": 11,
   "metadata": {},
   "outputs": [
    {
     "data": {
      "text/plain": [
       "<pandas.core.groupby.generic.DataFrameGroupBy object at 0x000001A27C1B7470>"
      ]
     },
     "execution_count": 11,
     "metadata": {},
     "output_type": "execute_result"
    }
   ],
   "source": [
    "#Analysis by Sector\n",
    "\n",
    "grouped_sector = sector_ceo.groupby(\"Sector\")\n",
    "grouped_sector"
   ]
  },
  {
   "cell_type": "code",
   "execution_count": 12,
   "metadata": {},
   "outputs": [
    {
     "data": {
      "text/plain": [
       "Sector                      Sector                    \n",
       "Consumer Discretionary      Consumer Discretionary        73\n",
       "Consumer Staples            Consumer Staples              31\n",
       "Energy                      Energy                        29\n",
       "Financials                  Financials                    66\n",
       "Health Care                 Health Care                   57\n",
       "Industrials                 Industrials                   66\n",
       "Information Technology      Information Technology        66\n",
       "Materials                   Materials                     22\n",
       "Real Estate                 Real Estate                   17\n",
       "Telecommunication Services  Telecommunication Services     3\n",
       "Utilities                   Utilities                     27\n",
       "Name: Sector, dtype: int64"
      ]
     },
     "execution_count": 12,
     "metadata": {},
     "output_type": "execute_result"
    }
   ],
   "source": [
    "#A list of sectors and number of companies in each sector (total number 426)\n",
    "\n",
    "total_companies = grouped_sector[\"Sector\"].value_counts()\n",
    "total_companies"
   ]
  },
  {
   "cell_type": "code",
   "execution_count": 13,
   "metadata": {
    "scrolled": true
   },
   "outputs": [
    {
     "data": {
      "text/plain": [
       "Sector\n",
       "Consumer Discretionary        15.070156\n",
       "Consumer Staples              13.313947\n",
       "Energy                        14.480887\n",
       "Financials                    13.142770\n",
       "Health Care                   15.656868\n",
       "Industrials                   13.057138\n",
       "Information Technology        16.758616\n",
       "Materials                     12.245538\n",
       "Real Estate                   10.035250\n",
       "Telecommunication Services    28.993283\n",
       "Utilities                     10.891315\n",
       "Name: Salary, dtype: float64"
      ]
     },
     "execution_count": 13,
     "metadata": {},
     "output_type": "execute_result"
    }
   ],
   "source": [
    "#Average Salary by Sector per million\n",
    "\n",
    "avr_sal_sector = grouped_sector[\"Salary\"].mean()/1000000\n",
    "avr_sal_sector"
   ]
  },
  {
   "cell_type": "code",
   "execution_count": 14,
   "metadata": {},
   "outputs": [
    {
     "data": {
      "text/plain": [
       "Sector\n",
       "Consumer Discretionary        25.961918\n",
       "Consumer Staples              21.388065\n",
       "Energy                        40.800690\n",
       "Financials                    17.788939\n",
       "Health Care                   23.974211\n",
       "Industrials                   21.482273\n",
       "Information Technology        38.120455\n",
       "Materials                     18.998636\n",
       "Real Estate                   28.850000\n",
       "Telecommunication Services    11.190000\n",
       "Utilities                     17.146296\n",
       "Name: PE_Ratio, dtype: float64"
      ]
     },
     "execution_count": 14,
     "metadata": {},
     "output_type": "execute_result"
    }
   ],
   "source": [
    "#Average PE Ratio by Sector\n",
    "\n",
    "avr_per_sector = grouped_sector[\"PE_Ratio\"].mean()\n",
    "avr_per_sector"
   ]
  },
  {
   "cell_type": "code",
   "execution_count": 15,
   "metadata": {},
   "outputs": [
    {
     "data": {
      "text/plain": [
       "Sector\n",
       "Consumer Discretionary         39.613305\n",
       "Consumer Staples               63.577936\n",
       "Energy                         45.573503\n",
       "Financials                     51.853329\n",
       "Health Care                    54.845049\n",
       "Industrials                    36.203527\n",
       "Information Technology         90.061559\n",
       "Materials                      19.594157\n",
       "Real Estate                    21.246479\n",
       "Telecommunication Services    151.079066\n",
       "Utilities                      22.459377\n",
       "Name: Market Cap, dtype: float64"
      ]
     },
     "execution_count": 15,
     "metadata": {},
     "output_type": "execute_result"
    }
   ],
   "source": [
    "#Average Market Capitalization by Sector - per billion (100 million)\n",
    "\n",
    "avr_mktcap_sector = grouped_sector[\"Market Cap\"].mean()/1000000000\n",
    "avr_mktcap_sector"
   ]
  },
  {
   "cell_type": "code",
   "execution_count": 16,
   "metadata": {},
   "outputs": [],
   "source": [
    "sector_ceo.to_csv(\"fileOne.csv\", index=False, header=True)"
   ]
  },
  {
   "cell_type": "code",
   "execution_count": 17,
   "metadata": {},
   "outputs": [
    {
     "data": {
      "text/plain": [
       "1"
      ]
     },
     "execution_count": 17,
     "metadata": {},
     "output_type": "execute_result"
    }
   ],
   "source": [
    "#Variables for scattergram\n",
    "\n",
    "#Get range for salary - minumim\n",
    "sector_ceo.Salary.min()"
   ]
  },
  {
   "cell_type": "code",
   "execution_count": 18,
   "metadata": {},
   "outputs": [
    {
     "data": {
      "text/plain": [
       "129499005"
      ]
     },
     "execution_count": 18,
     "metadata": {},
     "output_type": "execute_result"
    }
   ],
   "source": [
    "#Get range for salary - maximum\n",
    "sector_ceo.Salary.max()"
   ]
  },
  {
   "cell_type": "code",
   "execution_count": 19,
   "metadata": {},
   "outputs": [
    {
     "data": {
      "text/plain": [
       "-251.53"
      ]
     },
     "execution_count": 19,
     "metadata": {},
     "output_type": "execute_result"
    }
   ],
   "source": [
    "#Get range for pe ratio - miniumum\n",
    "sector_ceo.PE_Ratio.min()"
   ]
  },
  {
   "cell_type": "code",
   "execution_count": 20,
   "metadata": {},
   "outputs": [
    {
     "data": {
      "text/plain": [
       "520.15"
      ]
     },
     "execution_count": 20,
     "metadata": {},
     "output_type": "execute_result"
    }
   ],
   "source": [
    "#Get range for pe ratio - maximum\n",
    "sector_ceo.PE_Ratio.max()"
   ]
  },
  {
   "cell_type": "code",
   "execution_count": 65,
   "metadata": {},
   "outputs": [
    {
     "data": {
      "image/png": "[encoded data removed]",
      "text/plain": [
       "<Figure size 432x288 with 1 Axes>"
      ]
     },
     "metadata": {
      "needs_background": "light"
     },
     "output_type": "display_data"
    }
   ],
   "source": [
    "# Scatterplot of CEO Salary and success measured by PE Ratios\n",
    "\n",
    "x_value = sector_ceo[\"PE_Ratio\"]\n",
    "y_axis = sector_ceo[\"Salary\"]/1000000\n",
    "x_limit = 50 #Max was 250, mean was 25, took out outliers\n",
    "\n",
    "plt.ylim(1, 40) #Max is 130mil, took to down to 30 mil\n",
    "plt.xlim(0, x_limit) #Min is -255\n",
    "\n",
    "x_axis = np.arange(0, x_limit, 50)\n",
    "\n",
    "# Build the scatter plot\n",
    "plt.scatter(x_value, y_axis, marker=\"o\", facecolors=\"blue\", edgecolors=\"black\", alpha=0.75)\n",
    "\n",
    "# Incorporate the other graph properties\n",
    "\n",
    "plt.title(\"2018 Salary vs Company Success\", fontsize=14, fontweight=\"bold\")\n",
    "plt.xlabel(\"Price/Earnings Ratio 2018\")\n",
    "plt.ylabel(\"Salary 2018 $mil\")\n",
    "#plt.legend(loc=\"upper right\")\n",
    "\n",
    "# Save Figure\n",
    "plt.savefig(\"scatter_salary_per.png\")\n",
    "\n",
    "# Show plot\n",
    "plt.show()"
   ]
  },
  {
   "cell_type": "code",
   "execution_count": 63,
   "metadata": {},
   "outputs": [
    {
     "data": {
      "image/png": "[encoded data removed]",
      "text/plain": [
       "<Figure size 432x288 with 1 Axes>"
      ]
     },
     "metadata": {
      "needs_background": "light"
     },
     "output_type": "display_data"
    }
   ],
   "source": [
    "#Regression of salary on PE Ratio\n",
    "# Set data\n",
    "x_axis = sector_ceo[\"PE_Ratio\"]\n",
    "y_axis = sector_ceo[\"Salary\"]/1000000\n",
    "\n",
    "# Set line\n",
    "(slope, intercept, _, _, _) = linregress(x_axis, y_axis)\n",
    "fit = slope * x_axis + intercept\n",
    "\n",
    "# Plot data\n",
    "fig, ax = plt.subplots()\n",
    "\n",
    "fig.suptitle(\"CEO Salary vs Company Success\", fontsize=16, fontweight=\"bold\")\n",
    "\n",
    "#ax.set_xlim(0, 50)\n",
    "#ax.set_ylim(0, 50)\n",
    "\n",
    "ax.set_xlabel(\"PE Ratio\")\n",
    "ax.set_ylabel(\"CEO Salary $mil\")\n",
    "\n",
    "ax.plot(x_axis, y_axis, linewidth=0, marker='o')\n",
    "ax.plot(x_axis, fit, 'b--')\n",
    "\n",
    "# Save Figure\n",
    "plt.savefig(\"ceo_per_regression.png\")\n",
    "\n",
    "plt.show()"
   ]
  },
  {
   "cell_type": "code",
   "execution_count": 69,
   "metadata": {},
   "outputs": [
    {
     "data": {
      "image/png": "[encoded data removed]",
      "text/plain": [
       "<Figure size 432x288 with 1 Axes>"
      ]
     },
     "metadata": {
      "needs_background": "light"
     },
     "output_type": "display_data"
    }
   ],
   "source": [
    "# Scatterplot of CEO Salary and Market Capitalization\n",
    "\n",
    "y_axis = sector_ceo['Salary']/1000000\n",
    "x_axis = sector_ceo['Market Cap']/100000000\n",
    "\n",
    "x_limit = 75\n",
    "plt.ylim(1, 20)\n",
    "plt.xlim(0, x_limit)\n",
    "\n",
    "x_axis = np.arange(0, x_limit, 50)\n",
    "\n",
    "# Build the scatter plot\n",
    "plt.scatter(x_value, y_axis, marker=\"o\", facecolors=\"orange\", edgecolors=\"black\", alpha=0.75)\n",
    "\n",
    "# Incorporate the other graph properties\n",
    "\n",
    "plt.title(\"Salary vs Market Capitalization\", fontsize=14, fontweight=\"bold\")\n",
    "plt.xlabel(\"Market Capitalization (per $bil)\")\n",
    "plt.ylabel(\"Salary (per $mil\")\n",
    "#plt.legend(loc=\"upper right\")\n",
    "\n",
    "# Save Figure\n",
    "plt.savefig(\"salary_mktcap_scatter.png\")\n",
    "\n",
    "# Show plot\n",
    "plt.show()"
   ]
  },
  {
   "cell_type": "code",
   "execution_count": 66,
   "metadata": {},
   "outputs": [
    {
     "data": {
      "image/png": "[encoded data removed]",
      "text/plain": [
       "<Figure size 432x288 with 1 Axes>"
      ]
     },
     "metadata": {
      "needs_background": "light"
     },
     "output_type": "display_data"
    }
   ],
   "source": [
    "#Regression Analysis of CEO Salary to market capitalization\n",
    "\n",
    "y_axis = salary_co['Salary']/1000000\n",
    "x_axis = salary_co['Market Cap']/100000000\n",
    "\n",
    "# Set line\n",
    "(slope, intercept, _, _, _) = linregress(x_axis, y_axis)\n",
    "fit = slope * x_axis + intercept\n",
    "\n",
    "# Plot data\n",
    "fig, ax = plt.subplots()\n",
    "fig.suptitle(\"CEO Salary vs Market Capitalization\", fontsize=14, fontweight=\"bold\")\n",
    "ax.set_xlabel(\"Market Capitalization (per $bil)\")\n",
    "ax.set_ylabel(\"CEO Salary(per $mil)\")\n",
    "\n",
    "ax.plot(x_axis, y_axis, linewidth=0, marker='o')\n",
    "ax.plot(x_axis, fit, 'b--')\n",
    "\n",
    "# Save Figure\n",
    "plt.savefig(\"salary_mktcap_avg.png\")\n",
    "plt.show()                       "
   ]
  },
  {
   "cell_type": "code",
   "execution_count": 59,
   "metadata": {},
   "outputs": [
    {
     "data": {
      "text/plain": [
       "Ttest_indResult(statistic=28.96157464306072, pvalue=2.137127720615758e-105)"
      ]
     },
     "execution_count": 59,
     "metadata": {},
     "output_type": "execute_result"
    }
   ],
   "source": [
    "# Calculate Independent (Two Sample) T-Test\n",
    "\n",
    "pop1 = sector_ceo['Salary']\n",
    "pop2 = sector_ceo['PE_Ratio']\n",
    "\n",
    "stats.ttest_ind(pop1, pop2, equal_var=False)"
   ]
  },
  {
   "cell_type": "code",
   "execution_count": 57,
   "metadata": {},
   "outputs": [
    {
     "data": {
      "text/plain": [
       "Ttest_indResult(statistic=-12.134002625374341, pvalue=1.4749765983869707e-29)"
      ]
     },
     "execution_count": 57,
     "metadata": {},
     "output_type": "execute_result"
    }
   ],
   "source": [
    "# Calculate Independent (Two Sample) T-Test\n",
    "\n",
    "population1 = sector_ceo['Salary']\n",
    "population2 = sector_ceo['Market Cap']\n",
    "stats.ttest_ind(population1, population2, equal_var=False)"
   ]
  },
  {
   "cell_type": "code",
   "execution_count": 39,
   "metadata": {},
   "outputs": [
    {
     "data": {
      "image/png": "[encoded data removed]",
      "text/plain": [
       "<Figure size 432x288 with 1 Axes>"
      ]
     },
     "metadata": {
      "needs_background": "light"
     },
     "output_type": "display_data"
    }
   ],
   "source": [
    "# bar chart\n",
    "\n",
    "avr_sal_sector.plot(kind=\"bar\", color = \"lightblue\", )\n",
    "plt.title(\"CEO Salary by Sector\")\n",
    "plt.ylabel(\"CEO Salary per million\")\n",
    "\n",
    "plt.savefig(\"sector_salary_bar.png\")\n",
    "\n",
    "plt.show()"
   ]
  },
  {
   "cell_type": "code",
   "execution_count": 40,
   "metadata": {},
   "outputs": [
    {
     "data": {
      "image/png": "[encoded data removed]",
      "text/plain": [
       "<Figure size 432x288 with 1 Axes>"
      ]
     },
     "metadata": {
      "needs_background": "light"
     },
     "output_type": "display_data"
    }
   ],
   "source": [
    "# bar chart\n",
    "\n",
    "avr_mktcap_sector.plot(kind=\"bar\", color = \"darkblue\", )\n",
    "plt.title(\"Sector\")\n",
    "plt.ylabel(\"Market Capitalization\")\n",
    "plt.savefig(\"sector_mktcap_bar.png\")\n",
    "\n",
    "plt.show()"
   ]
  },
  {
   "cell_type": "code",
   "execution_count": 41,
   "metadata": {},
   "outputs": [
    {
     "data": {
      "image/png": "[encoded data removed]",
      "text/plain": [
       "<Figure size 432x288 with 1 Axes>"
      ]
     },
     "metadata": {
      "needs_background": "light"
     },
     "output_type": "display_data"
    }
   ],
   "source": [
    "#Compare Sectors - Average salary and market capitalization\n",
    "\n",
    "market_cap = avr_mktcap_sector/5\n",
    "salary = avr_sal_sector\n",
    "\n",
    "market_cap, = plt.plot(market_cap, color=\"red\", label=\"Market Cap per $5bil\")\n",
    "salary, = plt.plot(salary, color=\"blue\", label=\"Salary per $mil\")\n",
    "\n",
    "plt.legend(handles=[market_cap, salary], loc=\"best\")\n",
    "plt.grid()\n",
    "plt.title(\"Salary vs Market Capitalization per Sector (Averages)\")\n",
    "plt.xlabel(\"Sectors\")\n",
    "plt.ylabel(\"$ per bil/mil\")\n",
    "plt.xticks(rotation='vertical')\n",
    "plt.savefig(\"sector_lines.png\")\n",
    "plt.show()"
   ]
  },
  {
   "cell_type": "code",
   "execution_count": 45,
   "metadata": {},
   "outputs": [
    {
     "data": {
      "image/png": "[encoded data removed]",
      "text/plain": [
       "<Figure size 432x288 with 1 Axes>"
      ]
     },
     "metadata": {
      "needs_background": "light"
     },
     "output_type": "display_data"
    }
   ],
   "source": [
    "#Regression Plot by Sector of PE Ratio/CEO Salary\n",
    "\n",
    "# Set data\n",
    "x_axis = avr_mktcap_sector\n",
    "y_axis = avr_sal_sector\n",
    "\n",
    "# Set line\n",
    "(slope, intercept, _, _, _) = linregress(x_axis, y_axis)\n",
    "fit = slope * x_axis + intercept\n",
    "\n",
    "# Plot data\n",
    "fig, ax = plt.subplots()\n",
    "fig.suptitle(\"by Sector - CEO Salary vs Market Cap\", fontsize=16, fontweight=\"bold\")\n",
    "plt.text(2, 7, 'Mean values compared',\n",
    "         horizontalalignment='center',\n",
    "         verticalalignment='top',\n",
    "         multialignment='center')\n",
    "\n",
    "ax.set_xlabel(\"Market Cap x$mil\")\n",
    "ax.set_ylabel(\"CEO Salary by Sector x$1mil\")\n",
    "\n",
    "ax.plot(x_axis, y_axis, linewidth=0, marker='o')\n",
    "ax.plot(x_axis, fit, 'b--')\n",
    "\n",
    "# Save Figure\n",
    "plt.savefig(\"sector_mktcap_f.png\")\n",
    "\n",
    "plt.show()"
   ]
  },
  {
   "cell_type": "code",
   "execution_count": null,
   "metadata": {},
   "outputs": [],
   "source": []
  }
 ],
 "metadata": {
  "kernelspec": {
   "display_name": "Python 3",
   "language": "python",
   "name": "python3"
  },
  "language_info": {
   "codemirror_mode": {
    "name": "ipython",
    "version": 3
   },
   "file_extension": ".py",
   "mimetype": "text/x-python",
   "name": "python",
   "nbconvert_exporter": "python",
   "pygments_lexer": "ipython3",
   "version": "3.7.3"
  }
 },
 "nbformat": 4,
 "nbformat_minor": 2
}
