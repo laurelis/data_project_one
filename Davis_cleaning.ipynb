{
 "cells": [
  {
   "cell_type": "code",
   "execution_count": null,
   "metadata": {},
   "outputs": [],
   "source": [
    "#import libraries\n",
    "\n",
    "import pandas as pd\n",
    "import matplotlib.pyplot as plt\n",
    "import numpy as np\n",
    "from scipy import stats\n",
    "from scipy.stats import linregress\n",
    "\n"
   ]
  },
  {
   "cell_type": "code",
   "execution_count": null,
   "metadata": {},
   "outputs": [],
   "source": [
    "#upload csv file and make dataframe\n",
    "\n",
    "company = \"fortune_1000_part.csv\"\n",
    "fortune_df = pd.read_csv(company)\n",
    "fortune_df.head()"
   ]
  },
  {
   "cell_type": "code",
   "execution_count": null,
   "metadata": {},
   "outputs": [],
   "source": [
    "#fixing the column types so we can work with them\n",
    "\n",
    "fortune_df[\"revenue\"] = pd.to_numeric(fortune_df[\"Revenues ($M)\"].replace({'\\$':'',',':'', '&':''},regex = True))\n",
    "fortune_df[\"employees\"] = pd.to_numeric(fortune_df[\"Employees\"].replace({'\\$':'',',':''},regex = True))\n",
    "fortune_df.head()\n",
    "\n"
   ]
  },
  {
   "cell_type": "code",
   "execution_count": null,
   "metadata": {},
   "outputs": [],
   "source": []
  }
 ],
 "metadata": {
  "kernelspec": {
   "display_name": "Python 3",
   "language": "python",
   "name": "python3"
  },
  "language_info": {
   "codemirror_mode": {
    "name": "ipython",
    "version": 3
   },
   "file_extension": ".py",
   "mimetype": "text/x-python",
   "name": "python",
   "nbconvert_exporter": "python",
   "pygments_lexer": "ipython3",
   "version": "3.7.3"
  }
 },
 "nbformat": 4,
 "nbformat_minor": 2
}
